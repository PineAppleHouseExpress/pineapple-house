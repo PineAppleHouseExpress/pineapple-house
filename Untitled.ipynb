{
 "cells": [
  {
   "cell_type": "code",
   "execution_count": 4,
   "metadata": {},
   "outputs": [
    {
     "ename": "DatabaseError",
     "evalue": "('08001', '[08001] [Microsoft][ODBC Driver 13 for SQL Server]SQL Server Network Interfaces: Error Locating Server/Instance Specified [xFFFFFFFF]. ')",
     "output_type": "error",
     "traceback": [
      "\u001b[1;31m---------------------------------------------------------------------------\u001b[0m",
      "\u001b[1;31mDatabaseError\u001b[0m                             Traceback (most recent call last)",
      "\u001b[1;32m<ipython-input-4-515632fa96af>\u001b[0m in \u001b[0;36m<module>\u001b[1;34m()\u001b[0m\n\u001b[0;32m      2\u001b[0m \u001b[1;32mimport\u001b[0m \u001b[0mpandas\u001b[0m \u001b[1;32mas\u001b[0m \u001b[0mpd\u001b[0m\u001b[1;33m\u001b[0m\u001b[0m\n\u001b[0;32m      3\u001b[0m \u001b[1;33m\u001b[0m\u001b[0m\n\u001b[1;32m----> 4\u001b[1;33m cnxn = pypyodbc.connect(\"Driver={ODBC Driver 13 for SQL Server};\"\n\u001b[0m\u001b[0;32m      5\u001b[0m                         \u001b[1;34m\"Server=C:\\Program Files\\Microsoft SQL Server\\MSSQL14.MSSQLSERVER\\MSSQL\"\u001b[0m\u001b[1;33m\u001b[0m\u001b[0m\n\u001b[0;32m      6\u001b[0m                         \u001b[1;34m\"Database=Hackathon\"\u001b[0m\u001b[1;33m\u001b[0m\u001b[0m\n",
      "\u001b[1;32mC:\\Users\\Roy Angelo Saavedra\\Anaconda3\\lib\\site-packages\\pypyodbc.py\u001b[0m in \u001b[0;36m__init__\u001b[1;34m(self, connectString, autocommit, ansi, timeout, unicode_results, readonly, **kargs)\u001b[0m\n\u001b[0;32m   2452\u001b[0m \u001b[1;33m\u001b[0m\u001b[0m\n\u001b[0;32m   2453\u001b[0m \u001b[1;33m\u001b[0m\u001b[0m\n\u001b[1;32m-> 2454\u001b[1;33m         \u001b[0mself\u001b[0m\u001b[1;33m.\u001b[0m\u001b[0mconnect\u001b[0m\u001b[1;33m(\u001b[0m\u001b[0mconnectString\u001b[0m\u001b[1;33m,\u001b[0m \u001b[0mautocommit\u001b[0m\u001b[1;33m,\u001b[0m \u001b[0mansi\u001b[0m\u001b[1;33m,\u001b[0m \u001b[0mtimeout\u001b[0m\u001b[1;33m,\u001b[0m \u001b[0municode_results\u001b[0m\u001b[1;33m,\u001b[0m \u001b[0mreadonly\u001b[0m\u001b[1;33m)\u001b[0m\u001b[1;33m\u001b[0m\u001b[0m\n\u001b[0m\u001b[0;32m   2455\u001b[0m \u001b[1;33m\u001b[0m\u001b[0m\n\u001b[0;32m   2456\u001b[0m     \u001b[1;32mdef\u001b[0m \u001b[0mset_connection_timeout\u001b[0m\u001b[1;33m(\u001b[0m\u001b[0mself\u001b[0m\u001b[1;33m,\u001b[0m\u001b[0mconnection_timeout\u001b[0m\u001b[1;33m)\u001b[0m\u001b[1;33m:\u001b[0m\u001b[1;33m\u001b[0m\u001b[0m\n",
      "\u001b[1;32mC:\\Users\\Roy Angelo Saavedra\\Anaconda3\\lib\\site-packages\\pypyodbc.py\u001b[0m in \u001b[0;36mconnect\u001b[1;34m(self, connectString, autocommit, ansi, timeout, unicode_results, readonly)\u001b[0m\n\u001b[0;32m   2505\u001b[0m         \u001b[1;32melse\u001b[0m\u001b[1;33m:\u001b[0m\u001b[1;33m\u001b[0m\u001b[0m\n\u001b[0;32m   2506\u001b[0m             \u001b[0mret\u001b[0m \u001b[1;33m=\u001b[0m \u001b[0modbc_func\u001b[0m\u001b[1;33m(\u001b[0m\u001b[0mself\u001b[0m\u001b[1;33m.\u001b[0m\u001b[0mdbc_h\u001b[0m\u001b[1;33m,\u001b[0m \u001b[1;36m0\u001b[0m\u001b[1;33m,\u001b[0m \u001b[0mc_connectString\u001b[0m\u001b[1;33m,\u001b[0m \u001b[0mlen\u001b[0m\u001b[1;33m(\u001b[0m\u001b[0mself\u001b[0m\u001b[1;33m.\u001b[0m\u001b[0mconnectString\u001b[0m\u001b[1;33m)\u001b[0m\u001b[1;33m,\u001b[0m \u001b[1;32mNone\u001b[0m\u001b[1;33m,\u001b[0m \u001b[1;36m0\u001b[0m\u001b[1;33m,\u001b[0m \u001b[1;32mNone\u001b[0m\u001b[1;33m,\u001b[0m \u001b[0mSQL_DRIVER_NOPROMPT\u001b[0m\u001b[1;33m)\u001b[0m\u001b[1;33m\u001b[0m\u001b[0m\n\u001b[1;32m-> 2507\u001b[1;33m         \u001b[0mcheck_success\u001b[0m\u001b[1;33m(\u001b[0m\u001b[0mself\u001b[0m\u001b[1;33m,\u001b[0m \u001b[0mret\u001b[0m\u001b[1;33m)\u001b[0m\u001b[1;33m\u001b[0m\u001b[0m\n\u001b[0m\u001b[0;32m   2508\u001b[0m \u001b[1;33m\u001b[0m\u001b[0m\n\u001b[0;32m   2509\u001b[0m \u001b[1;33m\u001b[0m\u001b[0m\n",
      "\u001b[1;32mC:\\Users\\Roy Angelo Saavedra\\Anaconda3\\lib\\site-packages\\pypyodbc.py\u001b[0m in \u001b[0;36mcheck_success\u001b[1;34m(ODBC_obj, ret)\u001b[0m\n\u001b[0;32m   1007\u001b[0m             \u001b[0mctrl_err\u001b[0m\u001b[1;33m(\u001b[0m\u001b[0mSQL_HANDLE_STMT\u001b[0m\u001b[1;33m,\u001b[0m \u001b[0mODBC_obj\u001b[0m\u001b[1;33m.\u001b[0m\u001b[0mstmt_h\u001b[0m\u001b[1;33m,\u001b[0m \u001b[0mret\u001b[0m\u001b[1;33m,\u001b[0m \u001b[0mODBC_obj\u001b[0m\u001b[1;33m.\u001b[0m\u001b[0mansi\u001b[0m\u001b[1;33m)\u001b[0m\u001b[1;33m\u001b[0m\u001b[0m\n\u001b[0;32m   1008\u001b[0m         \u001b[1;32melif\u001b[0m \u001b[0misinstance\u001b[0m\u001b[1;33m(\u001b[0m\u001b[0mODBC_obj\u001b[0m\u001b[1;33m,\u001b[0m \u001b[0mConnection\u001b[0m\u001b[1;33m)\u001b[0m\u001b[1;33m:\u001b[0m\u001b[1;33m\u001b[0m\u001b[0m\n\u001b[1;32m-> 1009\u001b[1;33m             \u001b[0mctrl_err\u001b[0m\u001b[1;33m(\u001b[0m\u001b[0mSQL_HANDLE_DBC\u001b[0m\u001b[1;33m,\u001b[0m \u001b[0mODBC_obj\u001b[0m\u001b[1;33m.\u001b[0m\u001b[0mdbc_h\u001b[0m\u001b[1;33m,\u001b[0m \u001b[0mret\u001b[0m\u001b[1;33m,\u001b[0m \u001b[0mODBC_obj\u001b[0m\u001b[1;33m.\u001b[0m\u001b[0mansi\u001b[0m\u001b[1;33m)\u001b[0m\u001b[1;33m\u001b[0m\u001b[0m\n\u001b[0m\u001b[0;32m   1010\u001b[0m         \u001b[1;32melse\u001b[0m\u001b[1;33m:\u001b[0m\u001b[1;33m\u001b[0m\u001b[0m\n\u001b[0;32m   1011\u001b[0m             \u001b[0mctrl_err\u001b[0m\u001b[1;33m(\u001b[0m\u001b[0mSQL_HANDLE_ENV\u001b[0m\u001b[1;33m,\u001b[0m \u001b[0mODBC_obj\u001b[0m\u001b[1;33m,\u001b[0m \u001b[0mret\u001b[0m\u001b[1;33m,\u001b[0m \u001b[1;32mFalse\u001b[0m\u001b[1;33m)\u001b[0m\u001b[1;33m\u001b[0m\u001b[0m\n",
      "\u001b[1;32mC:\\Users\\Roy Angelo Saavedra\\Anaconda3\\lib\\site-packages\\pypyodbc.py\u001b[0m in \u001b[0;36mctrl_err\u001b[1;34m(ht, h, val_ret, ansi)\u001b[0m\n\u001b[0;32m    985\u001b[0m                 \u001b[1;32mraise\u001b[0m \u001b[0mError\u001b[0m\u001b[1;33m(\u001b[0m\u001b[0mstate\u001b[0m\u001b[1;33m,\u001b[0m\u001b[0merr_text\u001b[0m\u001b[1;33m)\u001b[0m\u001b[1;33m\u001b[0m\u001b[0m\n\u001b[0;32m    986\u001b[0m             \u001b[1;32melse\u001b[0m\u001b[1;33m:\u001b[0m\u001b[1;33m\u001b[0m\u001b[0m\n\u001b[1;32m--> 987\u001b[1;33m                 \u001b[1;32mraise\u001b[0m \u001b[0mDatabaseError\u001b[0m\u001b[1;33m(\u001b[0m\u001b[0mstate\u001b[0m\u001b[1;33m,\u001b[0m\u001b[0merr_text\u001b[0m\u001b[1;33m)\u001b[0m\u001b[1;33m\u001b[0m\u001b[0m\n\u001b[0m\u001b[0;32m    988\u001b[0m             \u001b[1;32mbreak\u001b[0m\u001b[1;33m\u001b[0m\u001b[0m\n\u001b[0;32m    989\u001b[0m         \u001b[1;32melif\u001b[0m \u001b[0mret\u001b[0m \u001b[1;33m==\u001b[0m \u001b[0mSQL_INVALID_HANDLE\u001b[0m\u001b[1;33m:\u001b[0m\u001b[1;33m\u001b[0m\u001b[0m\n",
      "\u001b[1;31mDatabaseError\u001b[0m: ('08001', '[08001] [Microsoft][ODBC Driver 13 for SQL Server]SQL Server Network Interfaces: Error Locating Server/Instance Specified [xFFFFFFFF]. ')"
     ]
    }
   ],
   "source": [
    "import pypyodbc \n",
    "import pandas as pd\n",
    "\n",
    "cnxn = pypyodbc.connect(\"Driver={ODBC Driver 13 for SQL Server};\"\n",
    "                        \"Server=C:\\Program Files\\Microsoft SQL Server\\MSSQL14.MSSQLSERVER\\MSSQL\"\n",
    "                        \"Database=Hackathon\"\n",
    "                        \"uid=luke;pwd=skywalker\")\n",
    "\n"
   ]
  },
  {
   "cell_type": "code",
   "execution_count": null,
   "metadata": {},
   "outputs": [],
   "source": [
    "df = pd.read_sql_query('select * from table', cnxn)"
   ]
  },
  {
   "cell_type": "code",
   "execution_count": null,
   "metadata": {},
   "outputs": [],
   "source": []
  }
 ],
 "metadata": {
  "kernelspec": {
   "display_name": "Python 3",
   "language": "python",
   "name": "python3"
  },
  "language_info": {
   "codemirror_mode": {
    "name": "ipython",
    "version": 3
   },
   "file_extension": ".py",
   "mimetype": "text/x-python",
   "name": "python",
   "nbconvert_exporter": "python",
   "pygments_lexer": "ipython3",
   "version": "3.6.1"
  }
 },
 "nbformat": 4,
 "nbformat_minor": 2
}

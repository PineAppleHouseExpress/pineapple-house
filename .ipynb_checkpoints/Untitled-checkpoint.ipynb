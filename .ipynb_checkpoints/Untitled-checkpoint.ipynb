{
 "cells": [
  {
   "cell_type": "code",
   "execution_count": null,
   "metadata": {},
   "outputs": [],
   "source": [
    "import pypyodbc \n",
    "import pandas as pd\n",
    "\n",
    "cnxn = pypyodbc.connect(\"Driver={ODBC Driver 17 for SQL Server}};\"\n",
    "                        \"Server=Hackathon;\"\n",
    "                        \"Database=LISTINGS_LOCATION_SCORES;\"\n",
    "                        \"uid=rsaavy;pwd=Rsaavy!7\")\n",
    "\n",
    "df = pd.read_sql_query('select * from table', cnxn)"
   ]
  },
  {
   "cell_type": "code",
   "execution_count": null,
   "metadata": {},
   "outputs": [],
   "source": []
  }
 ],
 "metadata": {
  "kernelspec": {
   "display_name": "Python 3",
   "language": "python",
   "name": "python3"
  },
  "language_info": {
   "codemirror_mode": {
    "name": "ipython",
    "version": 3
   },
   "file_extension": ".py",
   "mimetype": "text/x-python",
   "name": "python",
   "nbconvert_exporter": "python",
   "pygments_lexer": "ipython3",
   "version": "3.6.1"
  }
 },
 "nbformat": 4,
 "nbformat_minor": 2
}
